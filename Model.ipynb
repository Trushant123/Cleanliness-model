{
 "cells": [
  {
   "cell_type": "code",
   "execution_count": null,
   "id": "9f4f13f6",
   "metadata": {},
   "outputs": [],
   "source": []
  },
  {
   "cell_type": "code",
   "execution_count": 1,
   "id": "7e2332ea",
   "metadata": {},
   "outputs": [],
   "source": [
    "import os\n",
    "import cv2\n",
    "import numpy as np\n",
    "import matplotlib.pyplot as plt\n",
    "from collections import Counter\n",
    "from sklearn.model_selection import train_test_split\n",
    "from sklearn.metrics import classification_report, ConfusionMatrixDisplay\n",
    "import tensorflow as tf\n",
    "from tensorflow.keras.applications import MobileNetV2\n",
    "from tensorflow.keras.models import Model\n",
    "from tensorflow.keras.layers import Dense, Dropout, GlobalAveragePooling2D\n",
    "from tensorflow.keras.preprocessing.image import ImageDataGenerator\n"
   ]
  },
  {
   "cell_type": "code",
   "execution_count": 2,
   "id": "44da34a2",
   "metadata": {},
   "outputs": [
    {
     "name": "stdout",
     "output_type": "stream",
     "text": [
      "Total Images: 2444\n",
      "Class Distribution: Counter({0: 1412, 1: 1032})\n"
     ]
    }
   ],
   "source": [
    "# Set up parameters\n",
    "data_dir = \"dataset\"\n",
    "classes = ['clean', 'dirty']\n",
    "image_size = 224\n",
    "\n",
    "# Load and preprocess images\n",
    "images = []\n",
    "labels = []\n",
    "for class_idx, class_name in enumerate(classes):\n",
    "    class_path = os.path.join(data_dir, class_name)\n",
    "    for file in os.listdir(class_path):\n",
    "        try:\n",
    "            img_path = os.path.join(class_path, file)\n",
    "            img = cv2.imread(img_path)\n",
    "            img = cv2.cvtColor(img, cv2.COLOR_BGR2RGB)\n",
    "            img = cv2.resize(img, (image_size, image_size))\n",
    "            images.append(img)\n",
    "            labels.append(class_idx)\n",
    "        except:\n",
    "            continue\n",
    "\n",
    "images = np.array(images) / 255.0\n",
    "labels = np.array(labels)\n",
    "\n",
    "print(\"Total Images:\", len(images))\n",
    "print(\"Class Distribution:\", Counter(labels))"
   ]
  },
  {
   "cell_type": "code",
   "execution_count": 3,
   "id": "283546b8",
   "metadata": {},
   "outputs": [],
   "source": [
    "X_train, X_test, y_train, y_test = train_test_split(\n",
    "    images, labels, test_size=0.2, stratify=labels, random_state=42\n",
    ")\n",
    "datagen = ImageDataGenerator(\n",
    "    rotation_range=20,\n",
    "    width_shift_range=0.1,\n",
    "    height_shift_range=0.1,\n",
    "    zoom_range=0.2,\n",
    "    horizontal_flip=True\n",
    ")\n",
    "datagen.fit(X_train)"
   ]
  },
  {
   "cell_type": "code",
   "execution_count": 5,
   "id": "f22029ad",
   "metadata": {},
   "outputs": [
    {
     "name": "stdout",
     "output_type": "stream",
     "text": [
      "Epoch 1/12\n",
      "62/62 [==============================] - 46s 692ms/step - loss: 0.4222 - accuracy: 0.8128 - val_loss: 1.9674 - val_accuracy: 0.7423\n",
      "Epoch 2/12\n",
      "62/62 [==============================] - 40s 640ms/step - loss: 0.3050 - accuracy: 0.8655 - val_loss: 1.4759 - val_accuracy: 0.7689\n",
      "Epoch 3/12\n",
      "62/62 [==============================] - 37s 599ms/step - loss: 0.2563 - accuracy: 0.8864 - val_loss: 0.8968 - val_accuracy: 0.8282\n",
      "Epoch 4/12\n",
      "62/62 [==============================] - 38s 605ms/step - loss: 0.2427 - accuracy: 0.9028 - val_loss: 1.8365 - val_accuracy: 0.7996\n",
      "Epoch 5/12\n",
      "62/62 [==============================] - 38s 604ms/step - loss: 0.1708 - accuracy: 0.9325 - val_loss: 1.6980 - val_accuracy: 0.8446\n",
      "Epoch 6/12\n",
      "62/62 [==============================] - 38s 614ms/step - loss: 0.2085 - accuracy: 0.9258 - val_loss: 1.5979 - val_accuracy: 0.8221\n",
      "Epoch 7/12\n",
      "62/62 [==============================] - 38s 613ms/step - loss: 0.1803 - accuracy: 0.9355 - val_loss: 2.4042 - val_accuracy: 0.7444\n",
      "Epoch 8/12\n",
      "62/62 [==============================] - 38s 611ms/step - loss: 0.1582 - accuracy: 0.9376 - val_loss: 1.3875 - val_accuracy: 0.8589\n",
      "Epoch 9/12\n",
      "62/62 [==============================] - 39s 622ms/step - loss: 0.1337 - accuracy: 0.9560 - val_loss: 1.8894 - val_accuracy: 0.8384\n",
      "Epoch 10/12\n",
      "62/62 [==============================] - 38s 616ms/step - loss: 0.1319 - accuracy: 0.9550 - val_loss: 3.1994 - val_accuracy: 0.7894\n",
      "Epoch 11/12\n",
      "62/62 [==============================] - 36s 579ms/step - loss: 0.1182 - accuracy: 0.9550 - val_loss: 1.8681 - val_accuracy: 0.8425\n",
      "Epoch 12/12\n",
      "62/62 [==============================] - 37s 589ms/step - loss: 0.1927 - accuracy: 0.9355 - val_loss: 1.9100 - val_accuracy: 0.8405\n"
     ]
    }
   ],
   "source": [
    "base_model = MobileNetV2(weights='imagenet', include_top=False, input_shape=(image_size, image_size, 3))\n",
    "base_model.trainable = True\n",
    "for layer in base_model.layers[:-20]:\n",
    "    layer.trainable = False\n",
    "\n",
    "# Add classification head\n",
    "x = GlobalAveragePooling2D()(base_model.output)\n",
    "x = Dense(128, activation='relu')(x)\n",
    "x = Dropout(0.3)(x)\n",
    "output = Dense(1, activation='sigmoid')(x)\n",
    "\n",
    "model = Model(inputs=base_model.input, outputs=output)\n",
    "model.compile(optimizer='adam', loss='binary_crossentropy', metrics=['accuracy'])\n",
    "\n",
    "# Train the model\n",
    "history = model.fit(\n",
    "    datagen.flow(X_train, y_train, batch_size=32),\n",
    "    validation_data=(X_test, y_test),\n",
    "    epochs=12\n",
    ")"
   ]
  },
  {
   "cell_type": "code",
   "execution_count": 6,
   "id": "f52b3860",
   "metadata": {},
   "outputs": [
    {
     "name": "stdout",
     "output_type": "stream",
     "text": [
      "16/16 [==============================] - 7s 373ms/step\n",
      "              precision    recall  f1-score   support\n",
      "\n",
      "       clean       0.82      0.92      0.87       283\n",
      "       dirty       0.87      0.73      0.79       206\n",
      "\n",
      "    accuracy                           0.84       489\n",
      "   macro avg       0.85      0.83      0.83       489\n",
      "weighted avg       0.84      0.84      0.84       489\n",
      "\n"
     ]
    },
    {
     "data": {
      "image/png": "[encoded data removed]",
      "text/plain": [
       "<Figure size 640x480 with 2 Axes>"
      ]
     },
     "metadata": {},
     "output_type": "display_data"
    }
   ],
   "source": [
    "y_pred = (model.predict(X_test) > 0.5).astype(\"int32\")\n",
    "print(classification_report(y_test, y_pred, target_names=classes))\n",
    "ConfusionMatrixDisplay.from_predictions(y_test, y_pred.ravel(), display_labels=classes, cmap='Blues')\n",
    "plt.title(\"MobileNetV2 Fine-Tuned Confusion Matrix\")\n",
    "plt.show()"
   ]
  },
  {
   "cell_type": "code",
   "execution_count": 7,
   "id": "f60c1ca2",
   "metadata": {},
   "outputs": [],
   "source": [
    "model.save(\"mobilenetv2_clean_dirty_classifier.h5\")"
   ]
  },
  {
   "cell_type": "code",
   "execution_count": null,
   "id": "31a9c96c",
   "metadata": {},
   "outputs": [
    {
     "name": "stdout",
     "output_type": "stream",
     "text": [
      "WARNING:tensorflow:Compiled the loaded model, but the compiled metrics have yet to be built. `model.compile_metrics` will be empty until you train or evaluate the model.\n"
     ]
    },
    {
     "data": {
      "text/plain": [
       "['rf_model_clean_dirty.pkl']"
      ]
     },
     "execution_count": 13,
     "metadata": {},
     "output_type": "execute_result"
    }
   ],
   "source": []
  },
  {
   "cell_type": "code",
   "execution_count": null,
   "id": "33fb048e",
   "metadata": {},
   "outputs": [],
   "source": []
  },
  {
   "cell_type": "code",
   "execution_count": null,
   "id": "d71e974e",
   "metadata": {},
   "outputs": [],
   "source": []
  },
  {
   "cell_type": "code",
   "execution_count": null,
   "id": "bd1513c0",
   "metadata": {},
   "outputs": [],
   "source": []
  }
 ],
 "metadata": {
  "kernelspec": {
   "display_name": "env",
   "language": "python",
   "name": "python3"
  },
  "language_info": {
   "codemirror_mode": {
    "name": "ipython",
    "version": 3
   },
   "file_extension": ".py",
   "mimetype": "text/x-python",
   "name": "python",
   "nbconvert_exporter": "python",
   "pygments_lexer": "ipython3",
   "version": "3.9.0"
  }
 },
 "nbformat": 4,
 "nbformat_minor": 5
}
