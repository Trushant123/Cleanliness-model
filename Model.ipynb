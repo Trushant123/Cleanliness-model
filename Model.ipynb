{
 "cells": [
  {
   "cell_type": "code",
   "execution_count": null,
   "id": "9f4f13f6",
   "metadata": {},
   "outputs": [],
   "source": []
  },
  {
   "cell_type": "code",
   "execution_count": 1,
   "id": "7e2332ea",
   "metadata": {},
   "outputs": [],
   "source": [
    "import os\n",
    "import cv2\n",
    "import numpy as np\n",
    "import matplotlib.pyplot as plt\n",
    "from collections import Counter\n",
    "from sklearn.model_selection import train_test_split\n",
    "from sklearn.metrics import classification_report, ConfusionMatrixDisplay\n",
    "import tensorflow as tf\n",
    "from tensorflow.keras.applications import MobileNetV2\n",
    "from tensorflow.keras.models import Model\n",
    "from tensorflow.keras.layers import Dense, Dropout, GlobalAveragePooling2D\n",
    "from tensorflow.keras.preprocessing.image import ImageDataGenerator\n"
   ]
  },
  {
   "cell_type": "code",
   "execution_count": 2,
   "id": "44da34a2",
   "metadata": {},
   "outputs": [
    {
     "name": "stdout",
     "output_type": "stream",
     "text": [
      "Total Images: 2444\n",
      "Class Distribution: Counter({0: 1412, 1: 1032})\n"
     ]
    }
   ],
   "source": [
    "# Set up parameters\n",
    "data_dir = \"dataset\"\n",
    "classes = ['clean', 'dirty']\n",
    "image_size = 224\n",
    "\n",
    "# Load and preprocess images\n",
    "images = []\n",
    "labels = []\n",
    "for class_idx, class_name in enumerate(classes):\n",
    "    class_path = os.path.join(data_dir, class_name)\n",
    "    for file in os.listdir(class_path):\n",
    "        try:\n",
    "            img_path = os.path.join(class_path, file)\n",
    "            img = cv2.imread(img_path)\n",
    "            img = cv2.cvtColor(img, cv2.COLOR_BGR2RGB)\n",
    "            img = cv2.resize(img, (image_size, image_size))\n",
    "            images.append(img)\n",
    "            labels.append(class_idx)\n",
    "        except:\n",
    "            continue\n",
    "\n",
    "images = np.array(images) / 255.0\n",
    "labels = np.array(labels)\n",
    "\n",
    "print(\"Total Images:\", len(images))\n",
    "print(\"Class Distribution:\", Counter(labels))"
   ]
  },
  {
   "cell_type": "code",
   "execution_count": 3,
   "id": "283546b8",
   "metadata": {},
   "outputs": [],
   "source": [
    "X_train, X_test, y_train, y_test = train_test_split(\n",
    "    images, labels, test_size=0.2, stratify=labels, random_state=42\n",
    ")\n",
    "datagen = ImageDataGenerator(\n",
    "    rotation_range=20,\n",
    "    width_shift_range=0.1,\n",
    "    height_shift_range=0.1,\n",
    "    zoom_range=0.2,\n",
    "    horizontal_flip=True\n",
    ")\n",
    "datagen.fit(X_train)"
   ]
  },
  {
   "cell_type": "code",
   "execution_count": 4,
   "id": "f22029ad",
   "metadata": {},
   "outputs": [
    {
     "name": "stdout",
     "output_type": "stream",
     "text": [
      "Epoch 1/12\n",
      "62/62 [==============================] - 41s 603ms/step - loss: 0.4171 - accuracy: 0.8189 - val_loss: 7.6739 - val_accuracy: 0.6258\n",
      "Epoch 2/12\n",
      "62/62 [==============================] - 59s 950ms/step - loss: 0.2968 - accuracy: 0.8721 - val_loss: 6.2253 - val_accuracy: 0.6544\n",
      "Epoch 3/12\n",
      "62/62 [==============================] - 41s 657ms/step - loss: 0.2629 - accuracy: 0.8962 - val_loss: 7.8536 - val_accuracy: 0.6094\n",
      "Epoch 4/12\n",
      "62/62 [==============================] - 37s 589ms/step - loss: 0.2350 - accuracy: 0.9049 - val_loss: 7.3281 - val_accuracy: 0.6585\n",
      "Epoch 5/12\n",
      "62/62 [==============================] - 36s 577ms/step - loss: 0.1958 - accuracy: 0.9238 - val_loss: 2.9444 - val_accuracy: 0.8139\n",
      "Epoch 6/12\n",
      "62/62 [==============================] - 36s 576ms/step - loss: 0.1967 - accuracy: 0.9279 - val_loss: 2.1327 - val_accuracy: 0.8323\n",
      "Epoch 7/12\n",
      "62/62 [==============================] - 37s 589ms/step - loss: 0.1658 - accuracy: 0.9407 - val_loss: 2.1290 - val_accuracy: 0.8262\n",
      "Epoch 8/12\n",
      "62/62 [==============================] - 37s 595ms/step - loss: 0.1165 - accuracy: 0.9591 - val_loss: 3.3537 - val_accuracy: 0.7669\n",
      "Epoch 9/12\n",
      "62/62 [==============================] - 36s 573ms/step - loss: 0.1443 - accuracy: 0.9483 - val_loss: 2.0877 - val_accuracy: 0.8344\n",
      "Epoch 10/12\n",
      "62/62 [==============================] - 36s 574ms/step - loss: 0.1109 - accuracy: 0.9560 - val_loss: 2.6408 - val_accuracy: 0.8487\n",
      "Epoch 11/12\n",
      "62/62 [==============================] - 36s 584ms/step - loss: 0.0984 - accuracy: 0.9673 - val_loss: 3.2861 - val_accuracy: 0.7771\n",
      "Epoch 12/12\n",
      "62/62 [==============================] - 54s 873ms/step - loss: 0.1018 - accuracy: 0.9632 - val_loss: 3.7384 - val_accuracy: 0.7935\n"
     ]
    }
   ],
   "source": [
    "base_model = MobileNetV2(weights='imagenet', include_top=False, input_shape=(image_size, image_size, 3))\n",
    "base_model.trainable = True\n",
    "for layer in base_model.layers[:-20]:\n",
    "    layer.trainable = False\n",
    "\n",
    "# Add classification head\n",
    "x = GlobalAveragePooling2D()(base_model.output)\n",
    "x = Dense(128, activation='relu')(x)\n",
    "x = Dropout(0.3)(x)\n",
    "output = Dense(1, activation='sigmoid')(x)\n",
    "\n",
    "model = Model(inputs=base_model.input, outputs=output)\n",
    "model.compile(optimizer='adam', loss='binary_crossentropy', metrics=['accuracy'])\n",
    "\n",
    "# Train the model\n",
    "history = model.fit(\n",
    "    datagen.flow(X_train, y_train, batch_size=32),\n",
    "    validation_data=(X_test, y_test),\n",
    "    epochs=12\n",
    ")"
   ]
  },
  {
   "cell_type": "code",
   "execution_count": 5,
   "id": "f52b3860",
   "metadata": {},
   "outputs": [
    {
     "name": "stdout",
     "output_type": "stream",
     "text": [
      "16/16 [==============================] - 7s 374ms/step\n",
      "              precision    recall  f1-score   support\n",
      "\n",
      "       clean       0.74      1.00      0.85       283\n",
      "       dirty       1.00      0.51      0.68       206\n",
      "\n",
      "    accuracy                           0.79       489\n",
      "   macro avg       0.87      0.75      0.76       489\n",
      "weighted avg       0.85      0.79      0.78       489\n",
      "\n"
     ]
    },
    {
     "data": {
      "image/png": "[encoded data removed]",
      "text/plain": [
       "<Figure size 640x480 with 2 Axes>"
      ]
     },
     "metadata": {},
     "output_type": "display_data"
    }
   ],
   "source": [
    "y_pred = (model.predict(X_test) > 0.5).astype(\"int32\")\n",
    "print(classification_report(y_test, y_pred, target_names=classes))\n",
    "ConfusionMatrixDisplay.from_predictions(y_test, y_pred.ravel(), display_labels=classes, cmap='Blues')\n",
    "plt.title(\"MobileNetV2 Fine-Tuned Confusion Matrix\")\n",
    "plt.show()"
   ]
  },
  {
   "cell_type": "code",
   "execution_count": 6,
   "id": "f60c1ca2",
   "metadata": {},
   "outputs": [
    {
     "name": "stderr",
     "output_type": "stream",
     "text": [
      "WARNING:absl:Found untraced functions such as _jit_compiled_convolution_op, _jit_compiled_convolution_op, _jit_compiled_convolution_op, _jit_compiled_convolution_op, _jit_compiled_convolution_op while saving (showing 5 of 53). These functions will not be directly callable after loading.\n"
     ]
    },
    {
     "name": "stdout",
     "output_type": "stream",
     "text": [
      "INFO:tensorflow:Assets written to: mobilenetv2_classifier\\assets\n"
     ]
    },
    {
     "name": "stderr",
     "output_type": "stream",
     "text": [
      "INFO:tensorflow:Assets written to: mobilenetv2_classifier\\assets\n"
     ]
    }
   ],
   "source": [
    "model.save(\"mobilenetv2_classifier\", save_format=\"tf\")"
   ]
  },
  {
   "cell_type": "code",
   "execution_count": null,
   "id": "31a9c96c",
   "metadata": {},
   "outputs": [
    {
     "name": "stdout",
     "output_type": "stream",
     "text": [
      "WARNING:tensorflow:Compiled the loaded model, but the compiled metrics have yet to be built. `model.compile_metrics` will be empty until you train or evaluate the model.\n"
     ]
    },
    {
     "data": {
      "text/plain": [
       "['rf_model_clean_dirty.pkl']"
      ]
     },
     "execution_count": 13,
     "metadata": {},
     "output_type": "execute_result"
    }
   ],
   "source": []
  },
  {
   "cell_type": "code",
   "execution_count": null,
   "id": "33fb048e",
   "metadata": {},
   "outputs": [],
   "source": []
  },
  {
   "cell_type": "code",
   "execution_count": null,
   "id": "d71e974e",
   "metadata": {},
   "outputs": [],
   "source": []
  },
  {
   "cell_type": "code",
   "execution_count": null,
   "id": "bd1513c0",
   "metadata": {},
   "outputs": [],
   "source": []
  }
 ],
 "metadata": {
  "kernelspec": {
   "display_name": "env",
   "language": "python",
   "name": "python3"
  },
  "language_info": {
   "codemirror_mode": {
    "name": "ipython",
    "version": 3
   },
   "file_extension": ".py",
   "mimetype": "text/x-python",
   "name": "python",
   "nbconvert_exporter": "python",
   "pygments_lexer": "ipython3",
   "version": "3.9.0"
  }
 },
 "nbformat": 4,
 "nbformat_minor": 5
}
