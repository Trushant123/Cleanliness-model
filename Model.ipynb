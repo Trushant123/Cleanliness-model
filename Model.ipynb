{
 "cells": [
  {
   "cell_type": "code",
   "execution_count": null,
   "id": "9f4f13f6",
   "metadata": {},
   "outputs": [],
   "source": []
  },
  {
   "cell_type": "code",
   "execution_count": 18,
   "id": "7e2332ea",
   "metadata": {},
   "outputs": [],
   "source": [
    "import os\n",
    "import cv2\n",
    "import numpy as np\n",
    "import matplotlib.pyplot as plt\n",
    "from collections import Counter\n",
    "from sklearn.model_selection import train_test_split\n",
    "from sklearn.metrics import classification_report, ConfusionMatrixDisplay\n",
    "import tensorflow as tf\n",
    "from tensorflow.keras.applications import MobileNetV2\n",
    "from tensorflow.keras.models import Model\n",
    "from tensorflow.keras.layers import Dense, Dropout, GlobalAveragePooling2D\n",
    "from tensorflow.keras.preprocessing.image import ImageDataGenerator\n"
   ]
  },
  {
   "cell_type": "code",
   "execution_count": 19,
   "id": "44da34a2",
   "metadata": {},
   "outputs": [
    {
     "name": "stdout",
     "output_type": "stream",
     "text": [
      "Total Images: 2444\n",
      "Class Distribution: Counter({0: 1412, 1: 1032})\n"
     ]
    }
   ],
   "source": [
    "# Set up parameters\n",
    "data_dir = \"dataset\"\n",
    "classes = ['clean', 'dirty']\n",
    "image_size = 224\n",
    "\n",
    "# Load and preprocess images\n",
    "images = []\n",
    "labels = []\n",
    "for class_idx, class_name in enumerate(classes):\n",
    "    class_path = os.path.join(data_dir, class_name)\n",
    "    for file in os.listdir(class_path):\n",
    "        try:\n",
    "            img_path = os.path.join(class_path, file)\n",
    "            img = cv2.imread(img_path)\n",
    "            img = cv2.cvtColor(img, cv2.COLOR_BGR2RGB)\n",
    "            img = cv2.resize(img, (image_size, image_size))\n",
    "            images.append(img)\n",
    "            labels.append(class_idx)\n",
    "        except:\n",
    "            continue\n",
    "\n",
    "images = np.array(images) / 255.0\n",
    "labels = np.array(labels)\n",
    "\n",
    "print(\"Total Images:\", len(images))\n",
    "print(\"Class Distribution:\", Counter(labels))"
   ]
  },
  {
   "cell_type": "code",
   "execution_count": 20,
   "id": "283546b8",
   "metadata": {},
   "outputs": [],
   "source": [
    "X_train, X_test, y_train, y_test = train_test_split(\n",
    "    images, labels, test_size=0.2, stratify=labels, random_state=42\n",
    ")\n",
    "datagen = ImageDataGenerator(\n",
    "    rotation_range=20,\n",
    "    width_shift_range=0.1,\n",
    "    height_shift_range=0.1,\n",
    "    zoom_range=0.2,\n",
    "    horizontal_flip=True\n",
    ")\n",
    "datagen.fit(X_train)"
   ]
  },
  {
   "cell_type": "code",
   "execution_count": 21,
   "id": "f22029ad",
   "metadata": {},
   "outputs": [
    {
     "name": "stdout",
     "output_type": "stream",
     "text": [
      "Epoch 1/12\n",
      "62/62 [==============================] - 52s 792ms/step - loss: 0.4278 - accuracy: 0.8102 - val_loss: 3.5096 - val_accuracy: 0.7751\n",
      "Epoch 2/12\n",
      "62/62 [==============================] - 37s 595ms/step - loss: 0.3219 - accuracy: 0.8675 - val_loss: 4.7094 - val_accuracy: 0.7239\n",
      "Epoch 3/12\n",
      "62/62 [==============================] - 35s 559ms/step - loss: 0.2722 - accuracy: 0.8834 - val_loss: 2.6018 - val_accuracy: 0.7669\n",
      "Epoch 4/12\n",
      "62/62 [==============================] - 34s 554ms/step - loss: 0.2210 - accuracy: 0.9136 - val_loss: 4.5462 - val_accuracy: 0.7157\n",
      "Epoch 5/12\n",
      "62/62 [==============================] - 34s 554ms/step - loss: 0.1885 - accuracy: 0.9223 - val_loss: 3.1692 - val_accuracy: 0.7648\n",
      "Epoch 6/12\n",
      "62/62 [==============================] - 34s 555ms/step - loss: 0.1882 - accuracy: 0.9248 - val_loss: 6.4391 - val_accuracy: 0.6380\n",
      "Epoch 7/12\n",
      "62/62 [==============================] - 35s 557ms/step - loss: 0.1510 - accuracy: 0.9478 - val_loss: 2.4210 - val_accuracy: 0.8221\n",
      "Epoch 8/12\n",
      "62/62 [==============================] - 35s 559ms/step - loss: 0.1420 - accuracy: 0.9488 - val_loss: 1.7434 - val_accuracy: 0.8466\n",
      "Epoch 9/12\n",
      "62/62 [==============================] - 35s 558ms/step - loss: 0.1124 - accuracy: 0.9555 - val_loss: 3.5311 - val_accuracy: 0.8098\n",
      "Epoch 10/12\n",
      "62/62 [==============================] - 35s 559ms/step - loss: 0.1414 - accuracy: 0.9596 - val_loss: 4.0316 - val_accuracy: 0.7076\n",
      "Epoch 11/12\n",
      "62/62 [==============================] - 35s 559ms/step - loss: 0.1137 - accuracy: 0.9550 - val_loss: 4.5242 - val_accuracy: 0.7730\n",
      "Epoch 12/12\n",
      "62/62 [==============================] - 35s 557ms/step - loss: 0.1041 - accuracy: 0.9637 - val_loss: 2.5762 - val_accuracy: 0.8466\n"
     ]
    }
   ],
   "source": [
    "base_model = MobileNetV2(weights='imagenet', include_top=False, input_shape=(image_size, image_size, 3))\n",
    "base_model.trainable = True\n",
    "for layer in base_model.layers[:-20]:\n",
    "    layer.trainable = False\n",
    "\n",
    "# Add classification head\n",
    "x = GlobalAveragePooling2D()(base_model.output)\n",
    "x = Dense(128, activation='relu')(x)\n",
    "x = Dropout(0.3)(x)\n",
    "output = Dense(1, activation='sigmoid')(x)\n",
    "\n",
    "model = Model(inputs=base_model.input, outputs=output)\n",
    "model.compile(optimizer='adam', loss='binary_crossentropy', metrics=['accuracy'])\n",
    "\n",
    "# Train the model\n",
    "history = model.fit(\n",
    "    datagen.flow(X_train, y_train, batch_size=32),\n",
    "    validation_data=(X_test, y_test),\n",
    "    epochs=12\n",
    ")"
   ]
  },
  {
   "cell_type": "code",
   "execution_count": 22,
   "id": "f52b3860",
   "metadata": {},
   "outputs": [
    {
     "name": "stdout",
     "output_type": "stream",
     "text": [
      "16/16 [==============================] - 6s 356ms/step\n",
      "              precision    recall  f1-score   support\n",
      "\n",
      "       clean       0.83      0.92      0.87       283\n",
      "       dirty       0.87      0.75      0.80       206\n",
      "\n",
      "    accuracy                           0.85       489\n",
      "   macro avg       0.85      0.83      0.84       489\n",
      "weighted avg       0.85      0.85      0.84       489\n",
      "\n"
     ]
    },
    {
     "data": {
      "image/png": "[encoded data removed]",
      "text/plain": [
       "<Figure size 640x480 with 2 Axes>"
      ]
     },
     "metadata": {},
     "output_type": "display_data"
    }
   ],
   "source": [
    "y_pred = (model.predict(X_test) > 0.5).astype(\"int32\")\n",
    "print(classification_report(y_test, y_pred, target_names=classes))\n",
    "ConfusionMatrixDisplay.from_predictions(y_test, y_pred.ravel(), display_labels=classes, cmap='Blues')\n",
    "plt.title(\"MobileNetV2 Fine-Tuned Confusion Matrix\")\n",
    "plt.show()"
   ]
  },
  {
   "cell_type": "code",
   "execution_count": null,
   "id": "f60c1ca2",
   "metadata": {},
   "outputs": [],
   "source": [
    "model.save(\"mobilenetv2_classifier.h5\")\n",
    "print(\"✅ Model saved as .h5\")"
   ]
  },
  {
   "cell_type": "code",
   "execution_count": null,
   "id": "31a9c96c",
   "metadata": {},
   "outputs": [],
   "source": []
  },
  {
   "cell_type": "code",
   "execution_count": null,
   "id": "33fb048e",
   "metadata": {},
   "outputs": [],
   "source": []
  },
  {
   "cell_type": "code",
   "execution_count": null,
   "id": "d71e974e",
   "metadata": {},
   "outputs": [],
   "source": []
  },
  {
   "cell_type": "code",
   "execution_count": null,
   "id": "bd1513c0",
   "metadata": {},
   "outputs": [],
   "source": []
  }
 ],
 "metadata": {
  "kernelspec": {
   "display_name": "env",
   "language": "python",
   "name": "python3"
  },
  "language_info": {
   "codemirror_mode": {
    "name": "ipython",
    "version": 3
   },
   "file_extension": ".py",
   "mimetype": "text/x-python",
   "name": "python",
   "nbconvert_exporter": "python",
   "pygments_lexer": "ipython3",
   "version": "3.9.0"
  }
 },
 "nbformat": 4,
 "nbformat_minor": 5
}
