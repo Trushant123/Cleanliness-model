{
 "cells": [
  {
   "cell_type": "code",
   "execution_count": null,
   "id": "9f4f13f6",
   "metadata": {},
   "outputs": [],
   "source": []
  },
  {
   "cell_type": "code",
   "execution_count": 7,
   "id": "7e2332ea",
   "metadata": {},
   "outputs": [],
   "source": [
    "import os\n",
    "import cv2\n",
    "import numpy as np\n",
    "import matplotlib.pyplot as plt\n",
    "from collections import Counter\n",
    "from sklearn.model_selection import train_test_split\n",
    "from sklearn.metrics import classification_report, ConfusionMatrixDisplay\n",
    "import tensorflow as tf\n",
    "from tensorflow.keras.applications import MobileNetV2\n",
    "from tensorflow.keras.models import Model\n",
    "from tensorflow.keras.layers import Dense, Dropout, GlobalAveragePooling2D\n",
    "from tensorflow.keras.preprocessing.image import ImageDataGenerator\n"
   ]
  },
  {
   "cell_type": "code",
   "execution_count": 8,
   "id": "44da34a2",
   "metadata": {},
   "outputs": [
    {
     "name": "stdout",
     "output_type": "stream",
     "text": [
      "Total Images: 2444\n",
      "Class Distribution: Counter({0: 1412, 1: 1032})\n"
     ]
    }
   ],
   "source": [
    "# Set up parameters\n",
    "data_dir = \"dataset\"\n",
    "classes = ['clean', 'dirty']\n",
    "image_size = 224\n",
    "\n",
    "# Load and preprocess images\n",
    "images = []\n",
    "labels = []\n",
    "for class_idx, class_name in enumerate(classes):\n",
    "    class_path = os.path.join(data_dir, class_name)\n",
    "    for file in os.listdir(class_path):\n",
    "        try:\n",
    "            img_path = os.path.join(class_path, file)\n",
    "            img = cv2.imread(img_path)\n",
    "            img = cv2.cvtColor(img, cv2.COLOR_BGR2RGB)\n",
    "            img = cv2.resize(img, (image_size, image_size))\n",
    "            images.append(img)\n",
    "            labels.append(class_idx)\n",
    "        except:\n",
    "            continue\n",
    "\n",
    "images = np.array(images) / 255.0\n",
    "labels = np.array(labels)\n",
    "\n",
    "print(\"Total Images:\", len(images))\n",
    "print(\"Class Distribution:\", Counter(labels))"
   ]
  },
  {
   "cell_type": "code",
   "execution_count": 9,
   "id": "283546b8",
   "metadata": {},
   "outputs": [],
   "source": [
    "X_train, X_test, y_train, y_test = train_test_split(\n",
    "    images, labels, test_size=0.2, stratify=labels, random_state=42\n",
    ")\n",
    "datagen = ImageDataGenerator(\n",
    "    rotation_range=20,\n",
    "    width_shift_range=0.1,\n",
    "    height_shift_range=0.1,\n",
    "    zoom_range=0.2,\n",
    "    horizontal_flip=True\n",
    ")\n",
    "datagen.fit(X_train)"
   ]
  },
  {
   "cell_type": "code",
   "execution_count": 10,
   "id": "f22029ad",
   "metadata": {},
   "outputs": [
    {
     "name": "stdout",
     "output_type": "stream",
     "text": [
      "Epoch 1/12\n",
      "62/62 [==============================] - 43s 630ms/step - loss: 0.4213 - accuracy: 0.8077 - val_loss: 4.3897 - val_accuracy: 0.7505\n",
      "Epoch 2/12\n",
      "62/62 [==============================] - 36s 577ms/step - loss: 0.3115 - accuracy: 0.8696 - val_loss: 2.0209 - val_accuracy: 0.8262\n",
      "Epoch 3/12\n",
      "62/62 [==============================] - 36s 583ms/step - loss: 0.2419 - accuracy: 0.8941 - val_loss: 1.6755 - val_accuracy: 0.8569\n",
      "Epoch 4/12\n",
      "62/62 [==============================] - 37s 599ms/step - loss: 0.2256 - accuracy: 0.9049 - val_loss: 1.7674 - val_accuracy: 0.8507\n",
      "Epoch 5/12\n",
      "62/62 [==============================] - 39s 620ms/step - loss: 0.2296 - accuracy: 0.9023 - val_loss: 5.4434 - val_accuracy: 0.7485\n",
      "Epoch 6/12\n",
      "62/62 [==============================] - 39s 624ms/step - loss: 0.1837 - accuracy: 0.9345 - val_loss: 4.6331 - val_accuracy: 0.7812\n",
      "Epoch 7/12\n",
      "62/62 [==============================] - 40s 638ms/step - loss: 0.1533 - accuracy: 0.9330 - val_loss: 2.9425 - val_accuracy: 0.8037\n",
      "Epoch 8/12\n",
      "62/62 [==============================] - 40s 644ms/step - loss: 0.1714 - accuracy: 0.9437 - val_loss: 1.8220 - val_accuracy: 0.8160\n",
      "Epoch 9/12\n",
      "62/62 [==============================] - 40s 646ms/step - loss: 0.1349 - accuracy: 0.9458 - val_loss: 1.8990 - val_accuracy: 0.8364\n",
      "Epoch 10/12\n",
      "62/62 [==============================] - 42s 672ms/step - loss: 0.1002 - accuracy: 0.9616 - val_loss: 2.2298 - val_accuracy: 0.8487\n",
      "Epoch 11/12\n",
      "62/62 [==============================] - 41s 660ms/step - loss: 0.0915 - accuracy: 0.9657 - val_loss: 1.7552 - val_accuracy: 0.8323\n",
      "Epoch 12/12\n",
      "62/62 [==============================] - 50s 815ms/step - loss: 0.1011 - accuracy: 0.9642 - val_loss: 1.6155 - val_accuracy: 0.8528\n"
     ]
    }
   ],
   "source": [
    "base_model = MobileNetV2(weights='imagenet', include_top=False, input_shape=(image_size, image_size, 3))\n",
    "base_model.trainable = True\n",
    "for layer in base_model.layers[:-20]:\n",
    "    layer.trainable = False\n",
    "\n",
    "# Add classification head\n",
    "x = GlobalAveragePooling2D()(base_model.output)\n",
    "x = Dense(128, activation='relu')(x)\n",
    "x = Dropout(0.3)(x)\n",
    "output = Dense(1, activation='sigmoid')(x)\n",
    "\n",
    "model = Model(inputs=base_model.input, outputs=output)\n",
    "model.compile(optimizer='adam', loss='binary_crossentropy', metrics=['accuracy'])\n",
    "\n",
    "# Train the model\n",
    "history = model.fit(\n",
    "    datagen.flow(X_train, y_train, batch_size=32),\n",
    "    validation_data=(X_test, y_test),\n",
    "    epochs=12\n",
    ")"
   ]
  },
  {
   "cell_type": "code",
   "execution_count": 11,
   "id": "f52b3860",
   "metadata": {},
   "outputs": [
    {
     "name": "stdout",
     "output_type": "stream",
     "text": [
      "16/16 [==============================] - 12s 640ms/step\n",
      "              precision    recall  f1-score   support\n",
      "\n",
      "       clean       0.87      0.88      0.87       283\n",
      "       dirty       0.83      0.82      0.82       206\n",
      "\n",
      "    accuracy                           0.85       489\n",
      "   macro avg       0.85      0.85      0.85       489\n",
      "weighted avg       0.85      0.85      0.85       489\n",
      "\n"
     ]
    },
    {
     "data": {
      "image/png": "[encoded data removed]",
      "text/plain": [
       "<Figure size 640x480 with 2 Axes>"
      ]
     },
     "metadata": {},
     "output_type": "display_data"
    }
   ],
   "source": [
    "y_pred = (model.predict(X_test) > 0.5).astype(\"int32\")\n",
    "print(classification_report(y_test, y_pred, target_names=classes))\n",
    "ConfusionMatrixDisplay.from_predictions(y_test, y_pred.ravel(), display_labels=classes, cmap='Blues')\n",
    "plt.title(\"MobileNetV2 Fine-Tuned Confusion Matrix\")\n",
    "plt.show()"
   ]
  },
  {
   "cell_type": "code",
   "execution_count": 12,
   "id": "f60c1ca2",
   "metadata": {},
   "outputs": [],
   "source": [
    "model.save(\"mobilenetv2_classifier.keras\")"
   ]
  },
  {
   "cell_type": "code",
   "execution_count": null,
   "id": "31a9c96c",
   "metadata": {},
   "outputs": [],
   "source": []
  },
  {
   "cell_type": "code",
   "execution_count": null,
   "id": "33fb048e",
   "metadata": {},
   "outputs": [],
   "source": []
  },
  {
   "cell_type": "code",
   "execution_count": null,
   "id": "d71e974e",
   "metadata": {},
   "outputs": [],
   "source": []
  },
  {
   "cell_type": "code",
   "execution_count": null,
   "id": "bd1513c0",
   "metadata": {},
   "outputs": [],
   "source": []
  }
 ],
 "metadata": {
  "kernelspec": {
   "display_name": "env",
   "language": "python",
   "name": "python3"
  },
  "language_info": {
   "codemirror_mode": {
    "name": "ipython",
    "version": 3
   },
   "file_extension": ".py",
   "mimetype": "text/x-python",
   "name": "python",
   "nbconvert_exporter": "python",
   "pygments_lexer": "ipython3",
   "version": "3.9.0"
  }
 },
 "nbformat": 4,
 "nbformat_minor": 5
}
